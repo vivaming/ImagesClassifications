{
 "cells": [
  {
   "cell_type": "code",
   "execution_count": 1,
   "id": "4869d6ea",
   "metadata": {
    "execution": {
     "iopub.execute_input": "2024-08-12T05:32:18.785656Z",
     "iopub.status.busy": "2024-08-12T05:32:18.785088Z",
     "iopub.status.idle": "2024-08-12T05:33:40.153476Z",
     "shell.execute_reply": "2024-08-12T05:33:40.152160Z"
    },
    "papermill": {
     "duration": 81.379561,
     "end_time": "2024-08-12T05:33:40.156171",
     "exception": false,
     "start_time": "2024-08-12T05:32:18.776610",
     "status": "completed"
    },
    "tags": []
   },
   "outputs": [],
   "source": [
    "%%capture\n",
    "%pip install -U bitsandbytes\n",
    "%pip install -U transformers\n",
    "%pip install -U accelerate\n",
    "%pip install -U peft\n",
    "%pip install -U trl"
   ]
  },
  {
   "cell_type": "code",
   "execution_count": 2,
   "id": "81319e42",
   "metadata": {
    "execution": {
     "iopub.execute_input": "2024-08-12T05:33:40.171703Z",
     "iopub.status.busy": "2024-08-12T05:33:40.171401Z",
     "iopub.status.idle": "2024-08-12T05:33:41.497519Z",
     "shell.execute_reply": "2024-08-12T05:33:41.496705Z"
    },
    "papermill": {
     "duration": 1.336438,
     "end_time": "2024-08-12T05:33:41.499988",
     "exception": false,
     "start_time": "2024-08-12T05:33:40.163550",
     "status": "completed"
    },
    "tags": []
   },
   "outputs": [],
   "source": [
    "import wandb\n",
    "from kaggle_secrets import UserSecretsClient\n",
    "\n",
    "user_secrets = UserSecretsClient()\n",
    "wb_token = user_secrets.get_secret(\"Ming-Test\")"
   ]
  },
  {
   "cell_type": "code",
   "execution_count": 3,
   "id": "4484e33a",
   "metadata": {
    "execution": {
     "iopub.execute_input": "2024-08-12T05:33:41.515227Z",
     "iopub.status.busy": "2024-08-12T05:33:41.514935Z",
     "iopub.status.idle": "2024-08-12T05:33:59.960033Z",
     "shell.execute_reply": "2024-08-12T05:33:59.959067Z"
    },
    "papermill": {
     "duration": 18.455112,
     "end_time": "2024-08-12T05:33:59.962469",
     "exception": false,
     "start_time": "2024-08-12T05:33:41.507357",
     "status": "completed"
    },
    "tags": []
   },
   "outputs": [
    {
     "name": "stderr",
     "output_type": "stream",
     "text": [
      "\u001b[34m\u001b[1mwandb\u001b[0m: W&B API key is configured. Use \u001b[1m`wandb login --relogin`\u001b[0m to force relogin\n",
      "\u001b[34m\u001b[1mwandb\u001b[0m: \u001b[33mWARNING\u001b[0m If you're specifying your api key in code, ensure this code is not shared publicly.\n",
      "\u001b[34m\u001b[1mwandb\u001b[0m: \u001b[33mWARNING\u001b[0m Consider setting the WANDB_API_KEY environment variable, or running `wandb login` from the command line.\n",
      "\u001b[34m\u001b[1mwandb\u001b[0m: Appending key for api.wandb.ai to your netrc file: /root/.netrc\n",
      "\u001b[34m\u001b[1mwandb\u001b[0m: Currently logged in as: \u001b[33mvivaming\u001b[0m. Use \u001b[1m`wandb login --relogin`\u001b[0m to force relogin\n",
      "\u001b[34m\u001b[1mwandb\u001b[0m: wandb version 0.17.6 is available!  To upgrade, please run:\n",
      "\u001b[34m\u001b[1mwandb\u001b[0m:  $ pip install wandb --upgrade\n",
      "\u001b[34m\u001b[1mwandb\u001b[0m: Tracking run with wandb version 0.17.4\n",
      "\u001b[34m\u001b[1mwandb\u001b[0m: Run data is saved locally in \u001b[35m\u001b[1m/kaggle/working/wandb/run-20240812_053343-ef2xvk4h\u001b[0m\n",
      "\u001b[34m\u001b[1mwandb\u001b[0m: Run \u001b[1m`wandb offline`\u001b[0m to turn off syncing.\n",
      "\u001b[34m\u001b[1mwandb\u001b[0m: Syncing run \u001b[33mbalmy-sunset-23\u001b[0m\n",
      "\u001b[34m\u001b[1mwandb\u001b[0m: ⭐️ View project at \u001b[34m\u001b[4mhttps://wandb.ai/vivaming/Fine-tune%20llama3.1%20on%20sentiment%20analysis%20dataset\u001b[0m\n",
      "\u001b[34m\u001b[1mwandb\u001b[0m: 🚀 View run at \u001b[34m\u001b[4mhttps://wandb.ai/vivaming/Fine-tune%20llama3.1%20on%20sentiment%20analysis%20dataset/runs/ef2xvk4h\u001b[0m\n"
     ]
    }
   ],
   "source": [
    "wandb.login(key = wb_token)\n",
    "run = wandb.init(\n",
    "project = 'Fine-tune llama3.1 on sentiment analysis dataset',\n",
    "job_type = 'training',\n",
    "anonymous = 'allow')"
   ]
  },
  {
   "cell_type": "code",
   "execution_count": 4,
   "id": "fbdc9d3c",
   "metadata": {
    "execution": {
     "iopub.execute_input": "2024-08-12T05:33:59.979901Z",
     "iopub.status.busy": "2024-08-12T05:33:59.979557Z",
     "iopub.status.idle": "2024-08-12T05:34:19.257944Z",
     "shell.execute_reply": "2024-08-12T05:34:19.257116Z"
    },
    "papermill": {
     "duration": 19.289544,
     "end_time": "2024-08-12T05:34:19.260164",
     "exception": false,
     "start_time": "2024-08-12T05:33:59.970620",
     "status": "completed"
    },
    "tags": []
   },
   "outputs": [
    {
     "name": "stderr",
     "output_type": "stream",
     "text": [
      "2024-08-12 05:34:08.595562: E external/local_xla/xla/stream_executor/cuda/cuda_dnn.cc:9261] Unable to register cuDNN factory: Attempting to register factory for plugin cuDNN when one has already been registered\n",
      "2024-08-12 05:34:08.595675: E external/local_xla/xla/stream_executor/cuda/cuda_fft.cc:607] Unable to register cuFFT factory: Attempting to register factory for plugin cuFFT when one has already been registered\n",
      "2024-08-12 05:34:08.732390: E external/local_xla/xla/stream_executor/cuda/cuda_blas.cc:1515] Unable to register cuBLAS factory: Attempting to register factory for plugin cuBLAS when one has already been registered\n"
     ]
    }
   ],
   "source": [
    "import numpy as np\n",
    "import pandas as pd\n",
    "import os\n",
    "from tqdm import tqdm\n",
    "import bitsandbytes as bnb\n",
    "import torch\n",
    "import torch.nn as nn\n",
    "import transformers\n",
    "from datasets import Dataset\n",
    "from peft import LoraConfig, PeftConfig\n",
    "from trl import SFTTrainer\n",
    "from trl import setup_chat_format\n",
    "from transformers import (AutoModelForCausalLM, \n",
    "                          AutoTokenizer, \n",
    "                          BitsAndBytesConfig, \n",
    "                          TrainingArguments, \n",
    "                          pipeline, \n",
    "                          logging)\n",
    "from sklearn.metrics import (accuracy_score, \n",
    "                             classification_report, \n",
    "                             confusion_matrix)\n",
    "from sklearn.model_selection import train_test_split"
   ]
  },
  {
   "cell_type": "code",
   "execution_count": 5,
   "id": "fa8c6448",
   "metadata": {
    "execution": {
     "iopub.execute_input": "2024-08-12T05:34:19.277074Z",
     "iopub.status.busy": "2024-08-12T05:34:19.276542Z",
     "iopub.status.idle": "2024-08-12T05:34:19.953150Z",
     "shell.execute_reply": "2024-08-12T05:34:19.952313Z"
    },
    "papermill": {
     "duration": 0.687732,
     "end_time": "2024-08-12T05:34:19.955797",
     "exception": false,
     "start_time": "2024-08-12T05:34:19.268065",
     "status": "completed"
    },
    "tags": []
   },
   "outputs": [],
   "source": [
    "df = pd.read_csv(\"/kaggle/input/sentiment-analysis-for-mental-health-2/Combined Data.csv\",index_col = \"Unnamed: 0\")"
   ]
  },
  {
   "cell_type": "code",
   "execution_count": 6,
   "id": "9242e676",
   "metadata": {
    "execution": {
     "iopub.execute_input": "2024-08-12T05:34:19.972884Z",
     "iopub.status.busy": "2024-08-12T05:34:19.972580Z",
     "iopub.status.idle": "2024-08-12T05:34:19.995160Z",
     "shell.execute_reply": "2024-08-12T05:34:19.994349Z"
    },
    "papermill": {
     "duration": 0.032965,
     "end_time": "2024-08-12T05:34:19.997091",
     "exception": false,
     "start_time": "2024-08-12T05:34:19.964126",
     "status": "completed"
    },
    "tags": []
   },
   "outputs": [
    {
     "data": {
      "text/html": [
       "<div>\n",
       "<style scoped>\n",
       "    .dataframe tbody tr th:only-of-type {\n",
       "        vertical-align: middle;\n",
       "    }\n",
       "\n",
       "    .dataframe tbody tr th {\n",
       "        vertical-align: top;\n",
       "    }\n",
       "\n",
       "    .dataframe thead th {\n",
       "        text-align: right;\n",
       "    }\n",
       "</style>\n",
       "<table border=\"1\" class=\"dataframe\">\n",
       "  <thead>\n",
       "    <tr style=\"text-align: right;\">\n",
       "      <th></th>\n",
       "      <th>status</th>\n",
       "      <th>count</th>\n",
       "    </tr>\n",
       "  </thead>\n",
       "  <tbody>\n",
       "    <tr>\n",
       "      <th>0</th>\n",
       "      <td>Anxiety</td>\n",
       "      <td>3888</td>\n",
       "    </tr>\n",
       "    <tr>\n",
       "      <th>1</th>\n",
       "      <td>Bipolar</td>\n",
       "      <td>2877</td>\n",
       "    </tr>\n",
       "    <tr>\n",
       "      <th>2</th>\n",
       "      <td>Depression</td>\n",
       "      <td>15404</td>\n",
       "    </tr>\n",
       "    <tr>\n",
       "      <th>3</th>\n",
       "      <td>Normal</td>\n",
       "      <td>16351</td>\n",
       "    </tr>\n",
       "    <tr>\n",
       "      <th>4</th>\n",
       "      <td>Personality disorder</td>\n",
       "      <td>1201</td>\n",
       "    </tr>\n",
       "    <tr>\n",
       "      <th>5</th>\n",
       "      <td>Stress</td>\n",
       "      <td>2669</td>\n",
       "    </tr>\n",
       "    <tr>\n",
       "      <th>6</th>\n",
       "      <td>Suicidal</td>\n",
       "      <td>10653</td>\n",
       "    </tr>\n",
       "  </tbody>\n",
       "</table>\n",
       "</div>"
      ],
      "text/plain": [
       "                 status  count\n",
       "0               Anxiety   3888\n",
       "1               Bipolar   2877\n",
       "2            Depression  15404\n",
       "3                Normal  16351\n",
       "4  Personality disorder   1201\n",
       "5                Stress   2669\n",
       "6              Suicidal  10653"
      ]
     },
     "execution_count": 6,
     "metadata": {},
     "output_type": "execute_result"
    }
   ],
   "source": [
    "df.groupby('status').size().reset_index(name = 'count')"
   ]
  },
  {
   "cell_type": "code",
   "execution_count": 7,
   "id": "bbdc2c3a",
   "metadata": {
    "execution": {
     "iopub.execute_input": "2024-08-12T05:34:20.014144Z",
     "iopub.status.busy": "2024-08-12T05:34:20.013294Z",
     "iopub.status.idle": "2024-08-12T05:34:20.048378Z",
     "shell.execute_reply": "2024-08-12T05:34:20.047497Z"
    },
    "papermill": {
     "duration": 0.045481,
     "end_time": "2024-08-12T05:34:20.050292",
     "exception": false,
     "start_time": "2024-08-12T05:34:20.004811",
     "status": "completed"
    },
    "tags": []
   },
   "outputs": [],
   "source": [
    "df = df[(df.status != 'Personality disorder') & (df.status !='Stress') & (df.status !='Suicidal')]"
   ]
  },
  {
   "cell_type": "code",
   "execution_count": 8,
   "id": "0368ec6f",
   "metadata": {
    "execution": {
     "iopub.execute_input": "2024-08-12T05:34:20.069280Z",
     "iopub.status.busy": "2024-08-12T05:34:20.068602Z",
     "iopub.status.idle": "2024-08-12T05:34:20.081278Z",
     "shell.execute_reply": "2024-08-12T05:34:20.080434Z"
    },
    "papermill": {
     "duration": 0.023996,
     "end_time": "2024-08-12T05:34:20.083192",
     "exception": false,
     "start_time": "2024-08-12T05:34:20.059196",
     "status": "completed"
    },
    "tags": []
   },
   "outputs": [
    {
     "data": {
      "text/html": [
       "<div>\n",
       "<style scoped>\n",
       "    .dataframe tbody tr th:only-of-type {\n",
       "        vertical-align: middle;\n",
       "    }\n",
       "\n",
       "    .dataframe tbody tr th {\n",
       "        vertical-align: top;\n",
       "    }\n",
       "\n",
       "    .dataframe thead th {\n",
       "        text-align: right;\n",
       "    }\n",
       "</style>\n",
       "<table border=\"1\" class=\"dataframe\">\n",
       "  <thead>\n",
       "    <tr style=\"text-align: right;\">\n",
       "      <th></th>\n",
       "      <th>status</th>\n",
       "      <th>count</th>\n",
       "    </tr>\n",
       "  </thead>\n",
       "  <tbody>\n",
       "    <tr>\n",
       "      <th>0</th>\n",
       "      <td>Anxiety</td>\n",
       "      <td>3888</td>\n",
       "    </tr>\n",
       "    <tr>\n",
       "      <th>1</th>\n",
       "      <td>Bipolar</td>\n",
       "      <td>2877</td>\n",
       "    </tr>\n",
       "    <tr>\n",
       "      <th>2</th>\n",
       "      <td>Depression</td>\n",
       "      <td>15404</td>\n",
       "    </tr>\n",
       "    <tr>\n",
       "      <th>3</th>\n",
       "      <td>Normal</td>\n",
       "      <td>16351</td>\n",
       "    </tr>\n",
       "  </tbody>\n",
       "</table>\n",
       "</div>"
      ],
      "text/plain": [
       "       status  count\n",
       "0     Anxiety   3888\n",
       "1     Bipolar   2877\n",
       "2  Depression  15404\n",
       "3      Normal  16351"
      ]
     },
     "execution_count": 8,
     "metadata": {},
     "output_type": "execute_result"
    }
   ],
   "source": [
    "df.groupby('status').size().reset_index(name = 'count')"
   ]
  },
  {
   "cell_type": "code",
   "execution_count": 9,
   "id": "81d95b4d",
   "metadata": {
    "execution": {
     "iopub.execute_input": "2024-08-12T05:34:20.099875Z",
     "iopub.status.busy": "2024-08-12T05:34:20.099630Z",
     "iopub.status.idle": "2024-08-12T05:34:20.110117Z",
     "shell.execute_reply": "2024-08-12T05:34:20.108985Z"
    },
    "papermill": {
     "duration": 0.021084,
     "end_time": "2024-08-12T05:34:20.112114",
     "exception": false,
     "start_time": "2024-08-12T05:34:20.091030",
     "status": "completed"
    },
    "tags": []
   },
   "outputs": [],
   "source": [
    "#shuffle the Dataframe and select only 3000 rows randomly\n",
    "\n",
    "df = df.sample(frac = 1, random_state = 85).reset_index(drop = True).head(3000)"
   ]
  },
  {
   "cell_type": "code",
   "execution_count": 10,
   "id": "d18c34e1",
   "metadata": {
    "execution": {
     "iopub.execute_input": "2024-08-12T05:34:20.129418Z",
     "iopub.status.busy": "2024-08-12T05:34:20.128650Z",
     "iopub.status.idle": "2024-08-12T05:34:20.134155Z",
     "shell.execute_reply": "2024-08-12T05:34:20.133445Z"
    },
    "papermill": {
     "duration": 0.016117,
     "end_time": "2024-08-12T05:34:20.136042",
     "exception": false,
     "start_time": "2024-08-12T05:34:20.119925",
     "status": "completed"
    },
    "tags": []
   },
   "outputs": [],
   "source": [
    "#split the Dataframe\n",
    "train_size = 0.8\n",
    "eval_size = 0.1\n",
    "\n",
    "#calculate the size\n",
    "train_end = int(train_size * len(df))\n",
    "eval_end = train_end + int(eval_size * len(df))\n",
    "\n",
    "#split the data\n",
    "X_train = df[:train_end]\n",
    "X_eval = df[train_end:eval_end]\n",
    "X_test = df[eval_end:]"
   ]
  },
  {
   "cell_type": "code",
   "execution_count": 11,
   "id": "d22d905a",
   "metadata": {
    "execution": {
     "iopub.execute_input": "2024-08-12T05:34:20.152810Z",
     "iopub.status.busy": "2024-08-12T05:34:20.152563Z",
     "iopub.status.idle": "2024-08-12T05:34:20.157500Z",
     "shell.execute_reply": "2024-08-12T05:34:20.156629Z"
    },
    "papermill": {
     "duration": 0.015614,
     "end_time": "2024-08-12T05:34:20.159418",
     "exception": false,
     "start_time": "2024-08-12T05:34:20.143804",
     "status": "completed"
    },
    "tags": []
   },
   "outputs": [],
   "source": [
    "# Define the prompt function\n",
    "\n",
    "def generate_prompt(data_point):\n",
    "    return f'''\n",
    "    classify the text into Normal, Depression, Anxiety, Bipolar and return the answer as the corresponding mental health disorder label.\n",
    "    text: {data_point[\"statement\"]}\n",
    "    label:data_point[\"status\"]'''.strip()\n",
    "\n",
    "def generate_test_prompt(data_point):\n",
    "    return f'''\n",
    "    classify the text into Normal, Depression, Anxiety, Bipolar and return the answer as the corresponding mental health disorder label.\n",
    "    text: {data_point[\"statement\"]}\n",
    "    label:'''.strip()\n"
   ]
  },
  {
   "cell_type": "code",
   "execution_count": 12,
   "id": "b3e9de6d",
   "metadata": {
    "execution": {
     "iopub.execute_input": "2024-08-12T05:34:20.176138Z",
     "iopub.status.busy": "2024-08-12T05:34:20.175894Z",
     "iopub.status.idle": "2024-08-12T05:34:20.214883Z",
     "shell.execute_reply": "2024-08-12T05:34:20.214036Z"
    },
    "papermill": {
     "duration": 0.049619,
     "end_time": "2024-08-12T05:34:20.216805",
     "exception": false,
     "start_time": "2024-08-12T05:34:20.167186",
     "status": "completed"
    },
    "tags": []
   },
   "outputs": [],
   "source": [
    "# Generate prompt for training and evaluation data\n",
    "X_train = X_train.copy()\n",
    "X_train.loc[:, 'text'] = X_train.apply(generate_prompt, axis=1)\n",
    "\n",
    "X_eval = X_eval.copy()  # Ensure you're working with a copy\n",
    "X_eval.loc[:, 'text'] = X_eval.apply(generate_prompt, axis=1)\n",
    "\n",
    "# Generate prompts for the test data\n",
    "y_true = X_test.loc[:, 'status']\n",
    "X_test = X_test.copy()\n",
    "X_test = pd.DataFrame(X_test.apply(generate_test_prompt, axis=1), columns=['text'])\n"
   ]
  },
  {
   "cell_type": "code",
   "execution_count": 13,
   "id": "4b594f78",
   "metadata": {
    "execution": {
     "iopub.execute_input": "2024-08-12T05:34:20.233395Z",
     "iopub.status.busy": "2024-08-12T05:34:20.233107Z",
     "iopub.status.idle": "2024-08-12T05:34:20.243225Z",
     "shell.execute_reply": "2024-08-12T05:34:20.242351Z"
    },
    "papermill": {
     "duration": 0.020484,
     "end_time": "2024-08-12T05:34:20.245078",
     "exception": false,
     "start_time": "2024-08-12T05:34:20.224594",
     "status": "completed"
    },
    "tags": []
   },
   "outputs": [
    {
     "data": {
      "text/plain": [
       "status\n",
       "Normal        1028\n",
       "Depression     938\n",
       "Anxiety        258\n",
       "Bipolar        176\n",
       "Name: count, dtype: int64"
      ]
     },
     "execution_count": 13,
     "metadata": {},
     "output_type": "execute_result"
    }
   ],
   "source": [
    "X_train.status.value_counts()"
   ]
  },
  {
   "cell_type": "code",
   "execution_count": 14,
   "id": "81fa01e7",
   "metadata": {
    "execution": {
     "iopub.execute_input": "2024-08-12T05:34:20.263002Z",
     "iopub.status.busy": "2024-08-12T05:34:20.262739Z",
     "iopub.status.idle": "2024-08-12T05:34:20.271607Z",
     "shell.execute_reply": "2024-08-12T05:34:20.270755Z"
    },
    "papermill": {
     "duration": 0.020267,
     "end_time": "2024-08-12T05:34:20.273383",
     "exception": false,
     "start_time": "2024-08-12T05:34:20.253116",
     "status": "completed"
    },
    "tags": []
   },
   "outputs": [
    {
     "data": {
      "text/html": [
       "<div>\n",
       "<style scoped>\n",
       "    .dataframe tbody tr th:only-of-type {\n",
       "        vertical-align: middle;\n",
       "    }\n",
       "\n",
       "    .dataframe tbody tr th {\n",
       "        vertical-align: top;\n",
       "    }\n",
       "\n",
       "    .dataframe thead th {\n",
       "        text-align: right;\n",
       "    }\n",
       "</style>\n",
       "<table border=\"1\" class=\"dataframe\">\n",
       "  <thead>\n",
       "    <tr style=\"text-align: right;\">\n",
       "      <th></th>\n",
       "      <th>statement</th>\n",
       "      <th>status</th>\n",
       "      <th>text</th>\n",
       "    </tr>\n",
       "  </thead>\n",
       "  <tbody>\n",
       "    <tr>\n",
       "      <th>2400</th>\n",
       "      <td>A poem to me, by my bi-polar father. My dad di...</td>\n",
       "      <td>Bipolar</td>\n",
       "      <td>classify the text into Normal, Depression, Anx...</td>\n",
       "    </tr>\n",
       "    <tr>\n",
       "      <th>2401</th>\n",
       "      <td>Drowning in debt After being on the wrong meds...</td>\n",
       "      <td>Bipolar</td>\n",
       "      <td>classify the text into Normal, Depression, Anx...</td>\n",
       "    </tr>\n",
       "    <tr>\n",
       "      <th>2402</th>\n",
       "      <td>hi everyone can someone buy me meal i do not h...</td>\n",
       "      <td>Depression</td>\n",
       "      <td>classify the text into Normal, Depression, Anx...</td>\n",
       "    </tr>\n",
       "    <tr>\n",
       "      <th>2403</th>\n",
       "      <td>Okay, I do not know where to start and it is g...</td>\n",
       "      <td>Depression</td>\n",
       "      <td>classify the text into Normal, Depression, Anx...</td>\n",
       "    </tr>\n",
       "    <tr>\n",
       "      <th>2404</th>\n",
       "      <td>Bipolar 2 and Sex Addiction (P&amp;amp;M) Hi there...</td>\n",
       "      <td>Bipolar</td>\n",
       "      <td>classify the text into Normal, Depression, Anx...</td>\n",
       "    </tr>\n",
       "  </tbody>\n",
       "</table>\n",
       "</div>"
      ],
      "text/plain": [
       "                                              statement      status  \\\n",
       "2400  A poem to me, by my bi-polar father. My dad di...     Bipolar   \n",
       "2401  Drowning in debt After being on the wrong meds...     Bipolar   \n",
       "2402  hi everyone can someone buy me meal i do not h...  Depression   \n",
       "2403  Okay, I do not know where to start and it is g...  Depression   \n",
       "2404  Bipolar 2 and Sex Addiction (P&amp;M) Hi there...     Bipolar   \n",
       "\n",
       "                                                   text  \n",
       "2400  classify the text into Normal, Depression, Anx...  \n",
       "2401  classify the text into Normal, Depression, Anx...  \n",
       "2402  classify the text into Normal, Depression, Anx...  \n",
       "2403  classify the text into Normal, Depression, Anx...  \n",
       "2404  classify the text into Normal, Depression, Anx...  "
      ]
     },
     "execution_count": 14,
     "metadata": {},
     "output_type": "execute_result"
    }
   ],
   "source": [
    "X_eval.head()"
   ]
  },
  {
   "cell_type": "code",
   "execution_count": 15,
   "id": "57413cc4",
   "metadata": {
    "execution": {
     "iopub.execute_input": "2024-08-12T05:34:20.290772Z",
     "iopub.status.busy": "2024-08-12T05:34:20.290512Z",
     "iopub.status.idle": "2024-08-12T05:34:20.326222Z",
     "shell.execute_reply": "2024-08-12T05:34:20.325523Z"
    },
    "papermill": {
     "duration": 0.047147,
     "end_time": "2024-08-12T05:34:20.328693",
     "exception": false,
     "start_time": "2024-08-12T05:34:20.281546",
     "status": "completed"
    },
    "tags": []
   },
   "outputs": [],
   "source": [
    "#convert to dataset\n",
    "train_data = Dataset.from_pandas(X_train[['text']])\n",
    "eval_data = Dataset.from_pandas(X_eval[['text']])"
   ]
  },
  {
   "cell_type": "code",
   "execution_count": 16,
   "id": "ae52c500",
   "metadata": {
    "execution": {
     "iopub.execute_input": "2024-08-12T05:34:20.346496Z",
     "iopub.status.busy": "2024-08-12T05:34:20.346113Z",
     "iopub.status.idle": "2024-08-12T05:34:20.358878Z",
     "shell.execute_reply": "2024-08-12T05:34:20.358060Z"
    },
    "papermill": {
     "duration": 0.02381,
     "end_time": "2024-08-12T05:34:20.360796",
     "exception": false,
     "start_time": "2024-08-12T05:34:20.336986",
     "status": "completed"
    },
    "tags": []
   },
   "outputs": [
    {
     "data": {
      "text/plain": [
       "['classify the text into Normal, Depression, Anxiety, Bipolar and return the answer as the corresponding mental health disorder label.\\n    text: The \"Calm\" I have Bipolar 2.\\n\\nAfter a month of isolation and depression, I went out with my friends last night and had a great time. I went home tired and slept the whole day. I woke up exhausted but the racing thoughts and irritability are gone. My mind is blank and surprisingly calm. I\\'m actually panicking a bit because, at this point, I don\\'t know what\\'s happening. There are no more excessive intrusive thoughts, or those crazy ideas - just really calm. I feel alright but I still think of suicide.  I think what scares me a bit is that I experience this before a big mood swing. Am I okay? \\n    label:data_point[\"status\"]',\n",
       " 'classify the text into Normal, Depression, Anxiety, Bipolar and return the answer as the corresponding mental health disorder label.\\n    text: I have had a decent summer, nothing crazy like most kids but it was not bad. I did some stuff and went some places but a while back I went to this public place which had a lot of people.It made me Hella uncomfortable ngl, and I did not realize this, but the anxiety and fear is still there. A significant amount.I thought over summer break I had gotten over my fears and anxieties for the most part but I was wrong, its still there and I am panicking because I am going to have to go back to campus and do stuff around thousands of people.there is going to be a lot of people and I am not ready for it, feel like Ill throw up again.I am scared, terrified actually. please, kill me. tomorrow I have to go to school for registration and stuff like that and I am pretty nervous.\\n    label:data_point[\"status\"]',\n",
       " 'classify the text into Normal, Depression, Anxiety, Bipolar and return the answer as the corresponding mental health disorder label.\\n    text: Stable for years Hey everyone\\n\\nthanks for taking time to read this. \\n\\nI\\'ve question to everyone here who is stable for more than 5 years. \\n\\nWhat are the things that helped you for being stable ?\\n    label:data_point[\"status\"]']"
      ]
     },
     "execution_count": 16,
     "metadata": {},
     "output_type": "execute_result"
    }
   ],
   "source": [
    "train_data['text'][:3]"
   ]
  },
  {
   "cell_type": "code",
   "execution_count": 17,
   "id": "091abe51",
   "metadata": {
    "execution": {
     "iopub.execute_input": "2024-08-12T05:34:20.378882Z",
     "iopub.status.busy": "2024-08-12T05:34:20.378237Z",
     "iopub.status.idle": "2024-08-12T05:35:56.760890Z",
     "shell.execute_reply": "2024-08-12T05:35:56.759861Z"
    },
    "papermill": {
     "duration": 96.394187,
     "end_time": "2024-08-12T05:35:56.763330",
     "exception": false,
     "start_time": "2024-08-12T05:34:20.369143",
     "status": "completed"
    },
    "tags": []
   },
   "outputs": [
    {
     "data": {
      "application/vnd.jupyter.widget-view+json": {
       "model_id": "51ad6f41fc8e4e1aac101b21a8098148",
       "version_major": 2,
       "version_minor": 0
      },
      "text/plain": [
       "Loading checkpoint shards:   0%|          | 0/4 [00:00<?, ?it/s]"
      ]
     },
     "metadata": {},
     "output_type": "display_data"
    }
   ],
   "source": [
    "base_model_name = \"/kaggle/input/llama-3.1/transformers/8b-instruct/1\"\n",
    "\n",
    "bnb_config = BitsAndBytesConfig(\n",
    "    load_in_4bit=True,\n",
    "    bnb_4bit_use_double_quant=False,\n",
    "    bnb_4bit_quant_type=\"nf4\",\n",
    "    bnb_4bit_compute_dtype=\"float16\",\n",
    ")\n",
    "\n",
    "model = AutoModelForCausalLM.from_pretrained(\n",
    "    base_model_name,\n",
    "    device_map=\"auto\",\n",
    "    torch_dtype=\"float16\",\n",
    "    quantization_config=bnb_config, \n",
    ")\n",
    "\n",
    "model.config.use_cache = False\n",
    "model.config.pretraining_tp = 1"
   ]
  },
  {
   "cell_type": "code",
   "execution_count": 18,
   "id": "b7c3f757",
   "metadata": {
    "execution": {
     "iopub.execute_input": "2024-08-12T05:35:56.782341Z",
     "iopub.status.busy": "2024-08-12T05:35:56.782007Z",
     "iopub.status.idle": "2024-08-12T05:35:57.252598Z",
     "shell.execute_reply": "2024-08-12T05:35:57.251787Z"
    },
    "papermill": {
     "duration": 0.482474,
     "end_time": "2024-08-12T05:35:57.254842",
     "exception": false,
     "start_time": "2024-08-12T05:35:56.772368",
     "status": "completed"
    },
    "tags": []
   },
   "outputs": [],
   "source": [
    "tokenizer = AutoTokenizer.from_pretrained(base_model_name)\n",
    "tokenizer.pad_token_id = tokenizer.eos_token_id"
   ]
  },
  {
   "cell_type": "code",
   "execution_count": 19,
   "id": "8796b72d",
   "metadata": {
    "execution": {
     "iopub.execute_input": "2024-08-12T05:35:57.273766Z",
     "iopub.status.busy": "2024-08-12T05:35:57.273473Z",
     "iopub.status.idle": "2024-08-12T05:38:51.521247Z",
     "shell.execute_reply": "2024-08-12T05:38:51.520213Z"
    },
    "papermill": {
     "duration": 174.259757,
     "end_time": "2024-08-12T05:38:51.523538",
     "exception": false,
     "start_time": "2024-08-12T05:35:57.263781",
     "status": "completed"
    },
    "tags": []
   },
   "outputs": [
    {
     "name": "stderr",
     "output_type": "stream",
     "text": [
      "100%|██████████| 300/300 [02:54<00:00,  1.72it/s]\n"
     ]
    }
   ],
   "source": [
    "y_pred = []\n",
    "test=X_test\n",
    "\n",
    "categories = [\"Normal\", \"Depression\", \"Anxiety\", \"Bipolar\"]\n",
    "\n",
    "# Print the first 3 records from X_test\n",
    "for i in tqdm(range(len(test))):\n",
    "    prompt = X_test.iloc[i][\"text\"]\n",
    "    pipe = pipeline(task=\"text-generation\", \n",
    "                        model=model, \n",
    "                        tokenizer=tokenizer, \n",
    "                        max_new_tokens=2, \n",
    "                        temperature=0.1)\n",
    "        \n",
    "    result = pipe(prompt)\n",
    "    input_text = result[0][\"generated_text\"].split(\"label:\")[0]\n",
    "    answer = result[0][\"generated_text\"].split(\"label:\")[-1].strip()\n",
    "    #print(f'{i+1} -- answer: {answer} - input Text: {input_text}')\n",
    "    \n",
    "    #Determine the predicted category\n",
    "    for category in categories:\n",
    "        if category.lower() in answer.lower():\n",
    "            y_pred.append(category)\n",
    "            break\n",
    "    else:\n",
    "        y_pred.append(\"none\")\n",
    "           \n",
    "\n",
    "\n",
    "\n",
    "    "
   ]
  },
  {
   "cell_type": "markdown",
   "id": "beed5bd1",
   "metadata": {
    "papermill": {
     "duration": 0.031556,
     "end_time": "2024-08-12T05:38:51.587674",
     "exception": false,
     "start_time": "2024-08-12T05:38:51.556118",
     "status": "completed"
    },
    "tags": []
   },
   "source": [
    "Evaluate the result"
   ]
  },
  {
   "cell_type": "code",
   "execution_count": 20,
   "id": "1588a96c",
   "metadata": {
    "execution": {
     "iopub.execute_input": "2024-08-12T05:38:51.653229Z",
     "iopub.status.busy": "2024-08-12T05:38:51.652884Z",
     "iopub.status.idle": "2024-08-12T05:38:51.659584Z",
     "shell.execute_reply": "2024-08-12T05:38:51.658677Z"
    },
    "papermill": {
     "duration": 0.041699,
     "end_time": "2024-08-12T05:38:51.661597",
     "exception": false,
     "start_time": "2024-08-12T05:38:51.619898",
     "status": "completed"
    },
    "tags": []
   },
   "outputs": [],
   "source": [
    "labels = [\"Normal\", \"Depression\", \"Anxiety\", \"Bipolar\"]\n",
    "mapping = {label: idx for idx, label in enumerate(labels)}\n",
    "\n",
    "def map_func(x):\n",
    "        return mapping.get(x, -1)  # Map to -1 if not found, but should not occur with correct data\n",
    "\n",
    "y_true_mapped = np.vectorize(map_func)(y_true)\n",
    "y_pred_mapped = np.vectorize(map_func)(y_pred)"
   ]
  },
  {
   "cell_type": "code",
   "execution_count": 21,
   "id": "e37a33e2",
   "metadata": {
    "execution": {
     "iopub.execute_input": "2024-08-12T05:38:51.725965Z",
     "iopub.status.busy": "2024-08-12T05:38:51.725696Z",
     "iopub.status.idle": "2024-08-12T05:38:51.732250Z",
     "shell.execute_reply": "2024-08-12T05:38:51.731342Z"
    },
    "papermill": {
     "duration": 0.041145,
     "end_time": "2024-08-12T05:38:51.734214",
     "exception": false,
     "start_time": "2024-08-12T05:38:51.693069",
     "status": "completed"
    },
    "tags": []
   },
   "outputs": [
    {
     "name": "stdout",
     "output_type": "stream",
     "text": [
      "Accuracy: 0.787\n"
     ]
    }
   ],
   "source": [
    "# Calculate accuracy\n",
    "accuracy = accuracy_score(y_true=y_true_mapped, y_pred=y_pred_mapped)\n",
    "print(f'Accuracy: {accuracy:.3f}')"
   ]
  },
  {
   "cell_type": "code",
   "execution_count": 22,
   "id": "1f74abb0",
   "metadata": {
    "execution": {
     "iopub.execute_input": "2024-08-12T05:38:51.800183Z",
     "iopub.status.busy": "2024-08-12T05:38:51.799900Z",
     "iopub.status.idle": "2024-08-12T05:38:51.822499Z",
     "shell.execute_reply": "2024-08-12T05:38:51.821457Z"
    },
    "papermill": {
     "duration": 0.057266,
     "end_time": "2024-08-12T05:38:51.824360",
     "exception": false,
     "start_time": "2024-08-12T05:38:51.767094",
     "status": "completed"
    },
    "tags": []
   },
   "outputs": [
    {
     "name": "stdout",
     "output_type": "stream",
     "text": [
      "Accuracy for label Normal: 0.755\n",
      "Accuracy for label Depression: 0.930\n",
      "Accuracy for label Anxiety: 0.407\n",
      "Accuracy for label Bipolar: 0.667\n",
      "\n",
      "Classification Report:\n",
      "              precision    recall  f1-score   support\n",
      "\n",
      "      Normal       0.96      0.76      0.84       143\n",
      "  Depression       0.70      0.93      0.80       115\n",
      "     Anxiety       0.52      0.41      0.46        27\n",
      "     Bipolar       0.91      0.67      0.77        15\n",
      "\n",
      "   micro avg       0.79      0.79      0.79       300\n",
      "   macro avg       0.77      0.69      0.72       300\n",
      "weighted avg       0.82      0.79      0.79       300\n",
      "\n",
      "\n",
      "Confusion Matrix:\n",
      "[[108  29   5   0]\n",
      " [  2 107   5   1]\n",
      " [  3  13  11   0]\n",
      " [  0   4   0  10]]\n"
     ]
    }
   ],
   "source": [
    "# Generate accuracy report\n",
    "unique_labels = set(y_true_mapped)  # Get unique labels\n",
    "    \n",
    "for label in unique_labels:\n",
    "    label_indices = [i for i in range(len(y_true_mapped)) if y_true_mapped[i] == label]\n",
    "    label_y_true = [y_true_mapped[i] for i in label_indices]\n",
    "    label_y_pred = [y_pred_mapped[i] for i in label_indices]\n",
    "    label_accuracy = accuracy_score(label_y_true, label_y_pred)\n",
    "    print(f'Accuracy for label {labels[label]}: {label_accuracy:.3f}')\n",
    "        \n",
    "# Generate classification report\n",
    "class_report = classification_report(y_true=y_true_mapped, y_pred=y_pred_mapped, target_names=labels, labels=list(range(len(labels))))\n",
    "print('\\nClassification Report:')\n",
    "print(class_report)\n",
    "    \n",
    "# Generate confusion matrix\n",
    "conf_matrix = confusion_matrix(y_true=y_true_mapped, y_pred=y_pred_mapped, labels=list(range(len(labels))))\n",
    "print('\\nConfusion Matrix:')\n",
    "print(conf_matrix)"
   ]
  },
  {
   "cell_type": "code",
   "execution_count": null,
   "id": "1a7ad4bd",
   "metadata": {
    "papermill": {
     "duration": 0.031812,
     "end_time": "2024-08-12T05:38:51.888000",
     "exception": false,
     "start_time": "2024-08-12T05:38:51.856188",
     "status": "completed"
    },
    "tags": []
   },
   "outputs": [],
   "source": []
  }
 ],
 "metadata": {
  "kaggle": {
   "accelerator": "gpu",
   "dataSources": [
    {
     "datasetId": 5513108,
     "sourceId": 9131060,
     "sourceType": "datasetVersion"
    },
    {
     "isSourceIdPinned": true,
     "modelId": 91102,
     "modelInstanceId": 68809,
     "sourceId": 81881,
     "sourceType": "modelInstanceVersion"
    }
   ],
   "dockerImageVersionId": 30747,
   "isGpuEnabled": true,
   "isInternetEnabled": true,
   "language": "python",
   "sourceType": "notebook"
  },
  "kernelspec": {
   "display_name": "Python 3",
   "language": "python",
   "name": "python3"
  },
  "language_info": {
   "codemirror_mode": {
    "name": "ipython",
    "version": 3
   },
   "file_extension": ".py",
   "mimetype": "text/x-python",
   "name": "python",
   "nbconvert_exporter": "python",
   "pygments_lexer": "ipython3",
   "version": "3.10.13"
  },
  "papermill": {
   "default_parameters": {},
   "duration": 398.602755,
   "end_time": "2024-08-12T05:38:54.644346",
   "environment_variables": {},
   "exception": null,
   "input_path": "__notebook__.ipynb",
   "output_path": "__notebook__.ipynb",
   "parameters": {},
   "start_time": "2024-08-12T05:32:16.041591",
   "version": "2.5.0"
  },
  "widgets": {
   "application/vnd.jupyter.widget-state+json": {
    "state": {
     "01a50b00900f452ab30c7ad48fc5c316": {
      "model_module": "@jupyter-widgets/base",
      "model_module_version": "1.2.0",
      "model_name": "LayoutModel",
      "state": {
       "_model_module": "@jupyter-widgets/base",
       "_model_module_version": "1.2.0",
       "_model_name": "LayoutModel",
       "_view_count": null,
       "_view_module": "@jupyter-widgets/base",
       "_view_module_version": "1.2.0",
       "_view_name": "LayoutView",
       "align_content": null,
       "align_items": null,
       "align_self": null,
       "border": null,
       "bottom": null,
       "display": null,
       "flex": null,
       "flex_flow": null,
       "grid_area": null,
       "grid_auto_columns": null,
       "grid_auto_flow": null,
       "grid_auto_rows": null,
       "grid_column": null,
       "grid_gap": null,
       "grid_row": null,
       "grid_template_areas": null,
       "grid_template_columns": null,
       "grid_template_rows": null,
       "height": null,
       "justify_content": null,
       "justify_items": null,
       "left": null,
       "margin": null,
       "max_height": null,
       "max_width": null,
       "min_height": null,
       "min_width": null,
       "object_fit": null,
       "object_position": null,
       "order": null,
       "overflow": null,
       "overflow_x": null,
       "overflow_y": null,
       "padding": null,
       "right": null,
       "top": null,
       "visibility": null,
       "width": null
      }
     },
     "04a960733e214875aa4ef101f04ba4a6": {
      "model_module": "@jupyter-widgets/controls",
      "model_module_version": "1.5.0",
      "model_name": "FloatProgressModel",
      "state": {
       "_dom_classes": [],
       "_model_module": "@jupyter-widgets/controls",
       "_model_module_version": "1.5.0",
       "_model_name": "FloatProgressModel",
       "_view_count": null,
       "_view_module": "@jupyter-widgets/controls",
       "_view_module_version": "1.5.0",
       "_view_name": "ProgressView",
       "bar_style": "success",
       "description": "",
       "description_tooltip": null,
       "layout": "IPY_MODEL_c28ab62999044744a3ca00140732eab8",
       "max": 4.0,
       "min": 0.0,
       "orientation": "horizontal",
       "style": "IPY_MODEL_4b0d1da073b048f7b2cd0625e4b740dc",
       "value": 4.0
      }
     },
     "3a9df9d4634f4d1ab16afac086c946e9": {
      "model_module": "@jupyter-widgets/controls",
      "model_module_version": "1.5.0",
      "model_name": "HTMLModel",
      "state": {
       "_dom_classes": [],
       "_model_module": "@jupyter-widgets/controls",
       "_model_module_version": "1.5.0",
       "_model_name": "HTMLModel",
       "_view_count": null,
       "_view_module": "@jupyter-widgets/controls",
       "_view_module_version": "1.5.0",
       "_view_name": "HTMLView",
       "description": "",
       "description_tooltip": null,
       "layout": "IPY_MODEL_a3d8371e2a894d39b4f2dce346abc601",
       "placeholder": "​",
       "style": "IPY_MODEL_c6d87ccaa2954915b856a8f9b5053ce2",
       "value": "Loading checkpoint shards: 100%"
      }
     },
     "3b7cd0c224944ab2a0d77e0026feba90": {
      "model_module": "@jupyter-widgets/base",
      "model_module_version": "1.2.0",
      "model_name": "LayoutModel",
      "state": {
       "_model_module": "@jupyter-widgets/base",
       "_model_module_version": "1.2.0",
       "_model_name": "LayoutModel",
       "_view_count": null,
       "_view_module": "@jupyter-widgets/base",
       "_view_module_version": "1.2.0",
       "_view_name": "LayoutView",
       "align_content": null,
       "align_items": null,
       "align_self": null,
       "border": null,
       "bottom": null,
       "display": null,
       "flex": null,
       "flex_flow": null,
       "grid_area": null,
       "grid_auto_columns": null,
       "grid_auto_flow": null,
       "grid_auto_rows": null,
       "grid_column": null,
       "grid_gap": null,
       "grid_row": null,
       "grid_template_areas": null,
       "grid_template_columns": null,
       "grid_template_rows": null,
       "height": null,
       "justify_content": null,
       "justify_items": null,
       "left": null,
       "margin": null,
       "max_height": null,
       "max_width": null,
       "min_height": null,
       "min_width": null,
       "object_fit": null,
       "object_position": null,
       "order": null,
       "overflow": null,
       "overflow_x": null,
       "overflow_y": null,
       "padding": null,
       "right": null,
       "top": null,
       "visibility": null,
       "width": null
      }
     },
     "4b0d1da073b048f7b2cd0625e4b740dc": {
      "model_module": "@jupyter-widgets/controls",
      "model_module_version": "1.5.0",
      "model_name": "ProgressStyleModel",
      "state": {
       "_model_module": "@jupyter-widgets/controls",
       "_model_module_version": "1.5.0",
       "_model_name": "ProgressStyleModel",
       "_view_count": null,
       "_view_module": "@jupyter-widgets/base",
       "_view_module_version": "1.2.0",
       "_view_name": "StyleView",
       "bar_color": null,
       "description_width": ""
      }
     },
     "51ad6f41fc8e4e1aac101b21a8098148": {
      "model_module": "@jupyter-widgets/controls",
      "model_module_version": "1.5.0",
      "model_name": "HBoxModel",
      "state": {
       "_dom_classes": [],
       "_model_module": "@jupyter-widgets/controls",
       "_model_module_version": "1.5.0",
       "_model_name": "HBoxModel",
       "_view_count": null,
       "_view_module": "@jupyter-widgets/controls",
       "_view_module_version": "1.5.0",
       "_view_name": "HBoxView",
       "box_style": "",
       "children": [
        "IPY_MODEL_3a9df9d4634f4d1ab16afac086c946e9",
        "IPY_MODEL_04a960733e214875aa4ef101f04ba4a6",
        "IPY_MODEL_e58c87b7bf2c4ccdbd6e13817c3ec33b"
       ],
       "layout": "IPY_MODEL_3b7cd0c224944ab2a0d77e0026feba90"
      }
     },
     "a3d8371e2a894d39b4f2dce346abc601": {
      "model_module": "@jupyter-widgets/base",
      "model_module_version": "1.2.0",
      "model_name": "LayoutModel",
      "state": {
       "_model_module": "@jupyter-widgets/base",
       "_model_module_version": "1.2.0",
       "_model_name": "LayoutModel",
       "_view_count": null,
       "_view_module": "@jupyter-widgets/base",
       "_view_module_version": "1.2.0",
       "_view_name": "LayoutView",
       "align_content": null,
       "align_items": null,
       "align_self": null,
       "border": null,
       "bottom": null,
       "display": null,
       "flex": null,
       "flex_flow": null,
       "grid_area": null,
       "grid_auto_columns": null,
       "grid_auto_flow": null,
       "grid_auto_rows": null,
       "grid_column": null,
       "grid_gap": null,
       "grid_row": null,
       "grid_template_areas": null,
       "grid_template_columns": null,
       "grid_template_rows": null,
       "height": null,
       "justify_content": null,
       "justify_items": null,
       "left": null,
       "margin": null,
       "max_height": null,
       "max_width": null,
       "min_height": null,
       "min_width": null,
       "object_fit": null,
       "object_position": null,
       "order": null,
       "overflow": null,
       "overflow_x": null,
       "overflow_y": null,
       "padding": null,
       "right": null,
       "top": null,
       "visibility": null,
       "width": null
      }
     },
     "c14e3b9b0c344b1798bc21d24b43a40f": {
      "model_module": "@jupyter-widgets/controls",
      "model_module_version": "1.5.0",
      "model_name": "DescriptionStyleModel",
      "state": {
       "_model_module": "@jupyter-widgets/controls",
       "_model_module_version": "1.5.0",
       "_model_name": "DescriptionStyleModel",
       "_view_count": null,
       "_view_module": "@jupyter-widgets/base",
       "_view_module_version": "1.2.0",
       "_view_name": "StyleView",
       "description_width": ""
      }
     },
     "c28ab62999044744a3ca00140732eab8": {
      "model_module": "@jupyter-widgets/base",
      "model_module_version": "1.2.0",
      "model_name": "LayoutModel",
      "state": {
       "_model_module": "@jupyter-widgets/base",
       "_model_module_version": "1.2.0",
       "_model_name": "LayoutModel",
       "_view_count": null,
       "_view_module": "@jupyter-widgets/base",
       "_view_module_version": "1.2.0",
       "_view_name": "LayoutView",
       "align_content": null,
       "align_items": null,
       "align_self": null,
       "border": null,
       "bottom": null,
       "display": null,
       "flex": null,
       "flex_flow": null,
       "grid_area": null,
       "grid_auto_columns": null,
       "grid_auto_flow": null,
       "grid_auto_rows": null,
       "grid_column": null,
       "grid_gap": null,
       "grid_row": null,
       "grid_template_areas": null,
       "grid_template_columns": null,
       "grid_template_rows": null,
       "height": null,
       "justify_content": null,
       "justify_items": null,
       "left": null,
       "margin": null,
       "max_height": null,
       "max_width": null,
       "min_height": null,
       "min_width": null,
       "object_fit": null,
       "object_position": null,
       "order": null,
       "overflow": null,
       "overflow_x": null,
       "overflow_y": null,
       "padding": null,
       "right": null,
       "top": null,
       "visibility": null,
       "width": null
      }
     },
     "c6d87ccaa2954915b856a8f9b5053ce2": {
      "model_module": "@jupyter-widgets/controls",
      "model_module_version": "1.5.0",
      "model_name": "DescriptionStyleModel",
      "state": {
       "_model_module": "@jupyter-widgets/controls",
       "_model_module_version": "1.5.0",
       "_model_name": "DescriptionStyleModel",
       "_view_count": null,
       "_view_module": "@jupyter-widgets/base",
       "_view_module_version": "1.2.0",
       "_view_name": "StyleView",
       "description_width": ""
      }
     },
     "e58c87b7bf2c4ccdbd6e13817c3ec33b": {
      "model_module": "@jupyter-widgets/controls",
      "model_module_version": "1.5.0",
      "model_name": "HTMLModel",
      "state": {
       "_dom_classes": [],
       "_model_module": "@jupyter-widgets/controls",
       "_model_module_version": "1.5.0",
       "_model_name": "HTMLModel",
       "_view_count": null,
       "_view_module": "@jupyter-widgets/controls",
       "_view_module_version": "1.5.0",
       "_view_name": "HTMLView",
       "description": "",
       "description_tooltip": null,
       "layout": "IPY_MODEL_01a50b00900f452ab30c7ad48fc5c316",
       "placeholder": "​",
       "style": "IPY_MODEL_c14e3b9b0c344b1798bc21d24b43a40f",
       "value": " 4/4 [01:35&lt;00:00, 20.62s/it]"
      }
     }
    },
    "version_major": 2,
    "version_minor": 0
   }
  }
 },
 "nbformat": 4,
 "nbformat_minor": 5
}
